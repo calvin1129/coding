{
  "nbformat": 4,
  "nbformat_minor": 0,
  "metadata": {
    "colab": {
      "provenance": []
    },
    "kernelspec": {
      "name": "python3",
      "display_name": "Python 3"
    },
    "language_info": {
      "name": "python"
    }
  },
  "cells": [
    {
      "cell_type": "code",
      "execution_count": null,
      "metadata": {
        "colab": {
          "base_uri": "https://localhost:8080/"
        },
        "id": "TbG0raLoWj30",
        "outputId": "f8a58480-189d-4bab-96cb-f2e0c20eb975"
      },
      "outputs": [
        {
          "output_type": "stream",
          "name": "stdout",
          "text": [
            "         *\n",
            "        ***\n",
            "       *****\n",
            "      *******\n",
            "     *********\n",
            "    ***********\n",
            "   *************\n",
            "  ***************\n",
            " *****************\n",
            "        ***        \n",
            "        ***        \n",
            "        ***        \n",
            "        ***        \n",
            "        ***        \n"
          ]
        }
      ],
      "source": [
        "for i in range(19):\n",
        "    if i % 2:\n",
        "        q = int((19-i) / 2)\n",
        "        for j in range(q):\n",
        "            print(' ', end='')\n",
        "        for k in range(i):\n",
        "            print('*', end='')\n",
        "        print()\n",
        "for a in range(5):\n",
        "    i = '***'\n",
        "    p = f'{i:^19s}'\n",
        "    print(p)"
      ]
    },
    {
      "cell_type": "code",
      "source": [
        "import random\n",
        "a = random.sample(range(1,10),4)\n",
        "print('答案:', a)\n",
        "n = 0\n",
        "while True:\n",
        "    b = [int(i) for i in list(input('輸入四個數字(不會重複):'))]\n",
        "    l = len(b)\n",
        "    if l > 4:\n",
        "        print('輸入數字過多')\n",
        "    else:\n",
        "        A = 0\n",
        "        B = 0\n",
        "        for i in range(4):\n",
        "            if a[i] == b[i]:\n",
        "                A += 1\n",
        "        for i in range(4):\n",
        "            for j in range(4):\n",
        "                if i != j and a[i] == b[j]:\n",
        "                    B += 1\n",
        "        n += 1\n",
        "        print(f'{b[0]}{b[1]}{b[2]}{b[3]}: {A}A{B}B')\n",
        "        if A == 4:\n",
        "            print(f'答對了!共猜了{n}次')\n",
        "            break\n",
        "\n",
        "\n"
      ],
      "metadata": {
        "colab": {
          "base_uri": "https://localhost:8080/"
        },
        "id": "62QjLi5OucOQ",
        "outputId": "fa5f3bbd-5537-4d4f-a771-234872852d39"
      },
      "execution_count": null,
      "outputs": [
        {
          "output_type": "stream",
          "name": "stdout",
          "text": [
            "答案: [3, 2, 5, 9]\n",
            "輸入四個數字(不會重複):1728345\n",
            "輸入數字過多\n",
            "輸入四個數字(不會重複):3958\n",
            "3958: 2A1B\n",
            "輸入四個數字(不會重複):1357\n",
            "1357: 1A1B\n",
            "輸入四個數字(不會重複):3059\n",
            "3059: 3A0B\n",
            "輸入四個數字(不會重複):3259\n",
            "3259: 4A0B\n",
            "答對了!共猜了4次\n"
          ]
        }
      ]
    }
  ]
}