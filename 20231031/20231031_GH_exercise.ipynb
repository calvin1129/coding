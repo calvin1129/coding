{
  "nbformat": 4,
  "nbformat_minor": 0,
  "metadata": {
    "colab": {
      "provenance": []
    },
    "kernelspec": {
      "name": "python3",
      "display_name": "Python 3"
    },
    "language_info": {
      "name": "python"
    }
  },
  "cells": [
    {
      "cell_type": "code",
      "execution_count": null,
      "metadata": {
        "colab": {
          "base_uri": "https://localhost:8080/"
        },
        "id": "uhSoHBJIjhCD",
        "outputId": "41205087-b986-44f4-835e-b51fa4cc2484"
      },
      "outputs": [
        {
          "output_type": "stream",
          "name": "stdout",
          "text": [
            "輸入數字:45\n",
            "43\n"
          ]
        }
      ],
      "source": [
        "a = int(input(\"輸入數字:\"))\n",
        "if(a < 2):\n",
        "    print(\"錯誤\")\n",
        "else:\n",
        "    for i in range(a,1,-1):\n",
        "        n = 0\n",
        "        for j in range(1,i+1):\n",
        "            if i%j == 0:\n",
        "                n +=1\n",
        "        if n == 2:\n",
        "            break\n",
        "    print(i)"
      ]
    },
    {
      "cell_type": "code",
      "source": [
        "a = input(\"請輸入數字:\")\n",
        "b = []\n",
        "c = a.split(',')\n",
        "for i in range(len(c)):\n",
        "    c[i] = int(c[i])\n",
        "for i in range(len(c)):\n",
        "    m = 0\n",
        "    for j in range(len(c)):\n",
        "        if c[j] < c[i]:\n",
        "            m += 1\n",
        "    b.append(m)\n",
        "print(b)"
      ],
      "metadata": {
        "colab": {
          "base_uri": "https://localhost:8080/"
        },
        "id": "yxFAu253vKNJ",
        "outputId": "d2bfe8f5-3ea4-4288-8068-044a7b6f4f77"
      },
      "execution_count": null,
      "outputs": [
        {
          "output_type": "stream",
          "name": "stdout",
          "text": [
            "請輸入數字:8,1,2,2,3\n",
            "[4, 0, 1, 1, 3]\n"
          ]
        }
      ]
    },
    {
      "cell_type": "code",
      "source": [
        "a = input('輸入:')\n",
        "b = []\n",
        "n = 0\n",
        "for i in range(len(a)):\n",
        "    m = 0\n",
        "    for j in range(len(a)):\n",
        "        if a[j] == '1':\n",
        "            n = abs(j - i)\n",
        "            m += n\n",
        "    b.append(m)\n",
        "print(b)"
      ],
      "metadata": {
        "colab": {
          "base_uri": "https://localhost:8080/"
        },
        "id": "K8inCr2BzL5Y",
        "outputId": "809f58bc-f949-450a-d719-f3b1117481a8"
      },
      "execution_count": null,
      "outputs": [
        {
          "output_type": "stream",
          "name": "stdout",
          "text": [
            "輸入:001011\n",
            "[11, 8, 5, 4, 3, 4]\n"
          ]
        }
      ]
    }
  ]
}