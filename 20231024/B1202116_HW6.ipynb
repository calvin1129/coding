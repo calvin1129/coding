{
  "nbformat": 4,
  "nbformat_minor": 0,
  "metadata": {
    "colab": {
      "provenance": []
    },
    "kernelspec": {
      "name": "python3",
      "display_name": "Python 3"
    },
    "language_info": {
      "name": "python"
    }
  },
  "cells": [
    {
      "cell_type": "code",
      "execution_count": null,
      "metadata": {
        "colab": {
          "base_uri": "https://localhost:8080/"
        },
        "id": "flhRzboqi_Mb",
        "outputId": "70435e04-4674-44e7-de84-aed7697eb351"
      },
      "outputs": [
        {
          "output_type": "stream",
          "name": "stdout",
          "text": [
            "聖誕樹層數:9\n",
            "        *\n",
            "       ***\n",
            "      *****\n",
            "     *******\n",
            "    *********\n",
            "   ***********\n",
            "  *************\n",
            " ***************\n",
            "       ***\n",
            "       ***\n",
            "       ***\n",
            "       ***\n",
            "       ***\n"
          ]
        }
      ],
      "source": [
        "a = int(input('聖誕樹層數:'))\n",
        "def tree(a):\n",
        "    for i in range(2*a-1):\n",
        "        if i % 2:\n",
        "            q = int((2*a-1-i) / 2)\n",
        "            for j in range(q):\n",
        "                print(' ', end='')\n",
        "            for k in range(i):\n",
        "                print('*', end='')\n",
        "            print()\n",
        "    for i in range(5):\n",
        "        for j in range(a-2):\n",
        "            print(' ', end='')\n",
        "        for k in range(3):\n",
        "            print('*', end='')\n",
        "        print()\n",
        "tree(a)\n"
      ]
    },
    {
      "cell_type": "code",
      "source": [
        "try:\n",
        "    def bmi():\n",
        "        l = float(input(\"身高(公分):\"))\n",
        "        l /= 100\n",
        "        w = float(input(\"體重:\"))\n",
        "        bmi = w/(l**2)\n",
        "        if bmi < 18.5:\n",
        "            b = '體位:過輕'\n",
        "        elif bmi >= 18.5 and bmi <24:\n",
        "            b = '體位:適中'\n",
        "        elif bmi >= 24 and bmi < 27:\n",
        "            b = '體位:過重'\n",
        "        else:\n",
        "            b = '體位:肥胖'\n",
        "        bmi = f'BMI:{bmi}\\n{b}'\n",
        "        return bmi\n",
        "    bmi = bmi()\n",
        "    print (bmi)\n",
        "except:\n",
        "    print(\"輸入內容錯誤\")\n"
      ],
      "metadata": {
        "colab": {
          "base_uri": "https://localhost:8080/"
        },
        "id": "OwXUolMimce3",
        "outputId": "b496bd79-8eeb-4be8-b0b1-95d973a57654"
      },
      "execution_count": null,
      "outputs": [
        {
          "output_type": "stream",
          "name": "stdout",
          "text": [
            "身高(公分):188\n",
            "體重:88\n",
            "BMI:24.898143956541425\n",
            "體位:過重\n"
          ]
        }
      ]
    }
  ]
}