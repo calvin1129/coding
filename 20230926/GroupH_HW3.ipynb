{
  "nbformat": 4,
  "nbformat_minor": 0,
  "metadata": {
    "colab": {
      "provenance": []
    },
    "kernelspec": {
      "name": "python3",
      "display_name": "Python 3"
    },
    "language_info": {
      "name": "python"
    }
  },
  "cells": [
    {
      "cell_type": "code",
      "execution_count": null,
      "metadata": {
        "colab": {
          "base_uri": "https://localhost:8080/"
        },
        "id": "4msWsVCzor4s",
        "outputId": "9fedbd30-61a7-43e1-a392-37d76605fcd9"
      },
      "outputs": [
        {
          "output_type": "stream",
          "name": "stdout",
          "text": [
            "I'm a student\n"
          ]
        }
      ],
      "source": [
        "print(\"I'm a student\")"
      ]
    },
    {
      "cell_type": "code",
      "source": [
        "x1 = input(('x1='))\n",
        "y1 = input(('y1='))\n",
        "x2 = input(('x2='))\n",
        "y2 = input(('y2='))\n",
        "z = (float(x1) - float(x2))**2 + (float(y1) - float(y2))**2\n",
        "print(z**0.5)"
      ],
      "metadata": {
        "colab": {
          "base_uri": "https://localhost:8080/"
        },
        "id": "jrnD-v6FpJT0",
        "outputId": "99fb3c0c-063b-4a94-a86f-ae5c64f8cc93"
      },
      "execution_count": null,
      "outputs": [
        {
          "output_type": "stream",
          "name": "stdout",
          "text": [
            "x1=1\n",
            "y1=2\n",
            "x2=3\n",
            "y2=4\n",
            "2.8284271247461903\n"
          ]
        }
      ]
    },
    {
      "cell_type": "code",
      "source": [
        "l = input('身高:')\n",
        "w = input('體重:')\n",
        "l = float(l)\n",
        "w = float(w)\n",
        "l **= 2\n",
        "w /= l\n",
        "print(int(w<18.5))"
      ],
      "metadata": {
        "colab": {
          "base_uri": "https://localhost:8080/"
        },
        "id": "8N7OqcOruaWr",
        "outputId": "0e2e58f1-9144-4a6c-e8ba-ce5938f9f06d"
      },
      "execution_count": null,
      "outputs": [
        {
          "output_type": "stream",
          "name": "stdout",
          "text": [
            "身高:1.8\n",
            "體重:70\n",
            "0\n"
          ]
        }
      ]
    }
  ]
}