{
  "nbformat": 4,
  "nbformat_minor": 0,
  "metadata": {
    "colab": {
      "provenance": []
    },
    "kernelspec": {
      "name": "python3",
      "display_name": "Python 3"
    },
    "language_info": {
      "name": "python"
    }
  },
  "cells": [
    {
      "cell_type": "code",
      "execution_count": null,
      "metadata": {
        "colab": {
          "base_uri": "https://localhost:8080/"
        },
        "id": "qQGVAowNJf0V",
        "outputId": "0f56e3dc-773c-4606-eca4-8eefa66e7ad9"
      },
      "outputs": [
        {
          "output_type": "stream",
          "name": "stdout",
          "text": [
            "輸入五個成績:100 95 90 84 85\n",
            "90.0\n"
          ]
        }
      ],
      "source": [
        "a = input('輸入五個成績:')\n",
        "b = a.split(' ')\n",
        "b = [float(i)for i in (b)]\n",
        "# b.pop(b.index(max(b)))\n",
        "# b.pop(b.index(min(b)))\n",
        "b.remove(max(b))\n",
        "b.remove(min(b))\n",
        "c = sum(b)\n",
        "print(c/3)"
      ]
    },
    {
      "cell_type": "code",
      "source": [
        "a = int(input('a:'))\n",
        "b = int(input('b:'))\n",
        "c = input('運算符號:')\n",
        "if c == '+':\n",
        "  print(a+b)\n",
        "elif c == '-':\n",
        "  print(a-b)\n",
        "elif c == \"*\":\n",
        "  print(a*b)\n",
        "else:\n",
        "  print(a/b)\n"
      ],
      "metadata": {
        "colab": {
          "base_uri": "https://localhost:8080/"
        },
        "id": "uN69_b6wUe5l",
        "outputId": "c53249e9-dad1-451b-963e-d4ef0c0b10bf"
      },
      "execution_count": null,
      "outputs": [
        {
          "output_type": "stream",
          "name": "stdout",
          "text": [
            "a:100\n",
            "b:20\n",
            "運算符號:/\n",
            "5.0\n"
          ]
        }
      ]
    },
    {
      "cell_type": "code",
      "source": [
        "a = int(input('年:'))\n",
        "if a <= 1582:\n",
        "  if a%4 == 0:\n",
        "    print('閏年')\n",
        "  else:\n",
        "    print('平年')\n",
        "else:\n",
        "  if a%400 == 0:\n",
        "    print('閏年')\n",
        "  else:\n",
        "    if a%100 == 0:\n",
        "      print('平年')\n",
        "    else:\n",
        "      if a%4 == 0:\n",
        "        print('閏年')\n",
        "      else:\n",
        "        print('平年')"
      ],
      "metadata": {
        "colab": {
          "base_uri": "https://localhost:8080/"
        },
        "id": "q8MW5P7DWAh0",
        "outputId": "b601dc00-8038-492e-d26a-877bd0741e6f"
      },
      "execution_count": null,
      "outputs": [
        {
          "output_type": "stream",
          "name": "stdout",
          "text": [
            "年:1700\n",
            "平年\n"
          ]
        }
      ]
    }
  ]
}