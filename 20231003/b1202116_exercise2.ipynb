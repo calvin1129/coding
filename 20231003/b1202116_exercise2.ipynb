{
  "nbformat": 4,
  "nbformat_minor": 0,
  "metadata": {
    "colab": {
      "provenance": []
    },
    "kernelspec": {
      "name": "python3",
      "display_name": "Python 3"
    },
    "language_info": {
      "name": "python"
    }
  },
  "cells": [
    {
      "cell_type": "code",
      "execution_count": null,
      "metadata": {
        "colab": {
          "base_uri": "https://localhost:8080/"
        },
        "id": "6EiYO8gIc19P",
        "outputId": "ad587e89-3c5f-4da1-e768-da0291497897"
      },
      "outputs": [
        {
          "output_type": "stream",
          "name": "stdout",
          "text": [
            " A\n",
            "['K', 'H', 'U']\n"
          ]
        }
      ],
      "source": [
        "a = 'C, B, A'\n",
        "b = ['F', 'G', 'H']\n",
        "a = a.split(',')\n",
        "a = a + b\n",
        "a[0] = 'K'\n",
        "p = a.pop(2)\n",
        "del a[1:4]\n",
        "a.insert(100,'U')\n",
        "print(p)\n",
        "print(a)"
      ]
    },
    {
      "cell_type": "code",
      "source": [
        "l = input('身高:')\n",
        "w = input('體重:')\n",
        "l = float(l)\n",
        "w = float(w)\n",
        "l **= 2\n",
        "w /= l\n",
        "print('BMI:',w)\n",
        "if w<18.5:\n",
        "  print('體位:過輕')\n",
        "elif w>=18.5 and w<24:\n",
        "  print('體位:適中')\n",
        "elif w>=24 and w<27:\n",
        "  print('體位:過重')\n",
        "else:\n",
        "  print('體位:肥胖')"
      ],
      "metadata": {
        "id": "FM3kpJwblvLB",
        "colab": {
          "base_uri": "https://localhost:8080/"
        },
        "outputId": "33beb46b-3fdd-43ac-98a1-e79f52b87c35"
      },
      "execution_count": null,
      "outputs": [
        {
          "output_type": "stream",
          "name": "stdout",
          "text": [
            "身高:2\n",
            "體重:80\n",
            "BMI: 20.0\n",
            "體位:適中\n"
          ]
        }
      ]
    }
  ]
}